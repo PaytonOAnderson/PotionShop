{
  "nbformat": 4,
  "nbformat_minor": 0,
  "metadata": {
    "colab": {
      "provenance": [],
      "gpuType": "T4",
      "include_colab_link": true
    },
    "kernelspec": {
      "name": "python3",
      "display_name": "Python 3"
    },
    "language_info": {
      "name": "python"
    },
    "accelerator": "GPU"
  },
  "cells": [
    {
      "cell_type": "markdown",
      "metadata": {
        "id": "view-in-github",
        "colab_type": "text"
      },
      "source": [
        "<a href=\"https://colab.research.google.com/github/PaytonOAnderson/PotionShop/blob/main/Phishing_Detection_429.ipynb\" target=\"_parent\"><img src=\"https://colab.research.google.com/assets/colab-badge.svg\" alt=\"Open In Colab\"/></a>"
      ]
    },
    {
      "cell_type": "code",
      "source": [
        "# https://github.com/ebubekirbbr/pdd/blob/master/input/data_phishing_37175.json\n",
        "\n",
        "import json\n",
        "import numpy as np\n",
        "import os\n",
        "\n",
        "# Load the phishing data from the JSON file\n",
        "with open('data_legitimate_36400.json') as f:\n",
        "    ldata = json.load(f)\n",
        "\n",
        "# Load the legitimate data from the JSON file\n",
        "with open('data_phishing_37175.json') as f:\n",
        "    pdata = json.load(f)\n",
        "\n",
        "# Create an empty array to store the combined data\n",
        "combined_data = []\n",
        "\n",
        "# Add the phishing data to the combined data array, and add a label of 1 to indicate that it is phishing\n",
        "for item in pdata:\n",
        "    combined_data.append([item, 1])\n",
        "\n",
        "# Add the legitimate data to the combined data array, and add a label of 0 to indicate that it is legitimate\n",
        "for item in ldata:\n",
        "    combined_data.append([item, 0])\n",
        "\n",
        "# Shuffle the combined data array\n",
        "np.random.shuffle(combined_data)\n",
        "\n",
        "# Convert the combined data array to a numpy array\n",
        "combined_data = np.array(combined_data)\n",
        "\n",
        "print(combined_data[:10])\n",
        "\n"
      ],
      "metadata": {
        "colab": {
          "base_uri": "https://localhost:8080/"
        },
        "id": "Feq4_FuiTuJH",
        "outputId": "0a299aab-d672-47d3-ca8d-3003d029d4e1"
      },
      "execution_count": null,
      "outputs": [
        {
          "output_type": "stream",
          "name": "stdout",
          "text": [
            "[['http://www.slideserve.com/talbot/peripheral-nervous-system' '0']\n",
            " ['http://geoeducation.org/wp-includes/163/' '1']\n",
            " ['https://www.pendrivelinux.com/' '0']\n",
            " ['http://www.weathercity.com/tt/port_of_spain/' '0']\n",
            " ['http://wine.treyu.tk/image.htm' '1']\n",
            " ['https://www.bitdefender.com/solutions/' '0']\n",
            " ['https://vk.com/savethechildrenvk' '0']\n",
            " ['http://astrozet.net/Manual/swisseph.htm' '0']\n",
            " ['http://morewin-media.de/maus/baptismal-font-clipart' '0']\n",
            " ['https://www.saridity.com/wp-admin/network/komca/bivers/index.php?email=abuse@sce-hardware.com'\n",
            "  '1']]\n"
          ]
        }
      ]
    },
    {
      "cell_type": "code",
      "source": [
        "import numpy as np\n",
        "\n",
        "# Extract the links from the combined data\n",
        "links = [item[0] for item in combined_data]\n",
        "\n",
        "# Calculate the percentiles\n",
        "percentiles = np.percentile(np.char.str_len(links), np.arange(0, 101))\n"
      ],
      "metadata": {
        "id": "BYhXFnzGMAEo"
      },
      "execution_count": null,
      "outputs": []
    },
    {
      "cell_type": "code",
      "source": [
        "urls = []\n",
        "labels = []\n",
        "\n",
        "for item in combined_data:\n",
        "  urls.append(item[0])\n",
        "  labels.append(item[1])\n"
      ],
      "metadata": {
        "id": "mjI0URh8Vsp6"
      },
      "execution_count": null,
      "outputs": []
    },
    {
      "cell_type": "code",
      "source": [
        "import tensorflow as tf\n",
        "from tensorflow.keras.preprocessing.text import Tokenizer\n",
        "from tensorflow.keras.preprocessing.sequence import pad_sequences\n",
        "import numpy as np\n",
        "\n",
        "\n",
        "# Tokenize the URLs\n",
        "tokenizer = Tokenizer(char_level=True)\n",
        "tokenizer.fit_on_texts(urls)\n",
        "sequences = tokenizer.texts_to_sequences(urls)\n",
        "\n",
        "# Pad the sequences\n",
        "max_length = 200\n",
        "padded_sequences = pad_sequences(sequences, maxlen=max_length)\n",
        "\n",
        "# Convert labels to numpy array\n",
        "labels = np.array(labels, dtype=int)"
      ],
      "metadata": {
        "id": "pht2j-T-BTpk"
      },
      "execution_count": null,
      "outputs": []
    },
    {
      "cell_type": "code",
      "source": [
        "import numpy as np\n",
        "# Save the padded sequences to a file\n",
        "np.save('padded_sequences.npy', padded_sequences)\n",
        "\n",
        "# Save the labels to a file\n",
        "np.save('labels.npy', labels)\n"
      ],
      "metadata": {
        "id": "hSztZ9dfDkpy"
      },
      "execution_count": null,
      "outputs": []
    },
    {
      "cell_type": "code",
      "source": [
        "# Create the model\n",
        "model1 = tf.keras.Sequential([\n",
        "    tf.keras.layers.Embedding(input_dim=200, output_dim=128, mask_zero=True),\n",
        "    tf.keras.layers.Conv1D(128, 5, padding='same', activation='relu'),\n",
        "    tf.keras.layers.MaxPooling1D(),\n",
        "    tf.keras.layers.Bidirectional(tf.keras.layers.LSTM(256, return_sequences=True)),\n",
        "    tf.keras.layers.Bidirectional(tf.keras.layers.LSTM(256)),\n",
        "    tf.keras.layers.Dropout(0.3),\n",
        "    tf.keras.layers.Dense(128, activation='elu', kernel_regularizer=tf.keras.regularizers.l2(0.01)),\n",
        "    tf.keras.layers.Dropout(0.3),\n",
        "    tf.keras.layers.Dense(64, activation='elu', kernel_regularizer=tf.keras.regularizers.l2(0.01)),\n",
        "    tf.keras.layers.Dense(1, activation='sigmoid')\n",
        "])\n",
        "# Compile the model\n",
        "model1.compile(loss='binary_crossentropy', optimizer='adam', metrics=['accuracy'])\n",
        "\n",
        "# Train the model\n",
        "history1 = model1.fit(padded_sequences, labels, epochs=10, validation_split=0.2)\n",
        "print(history1.history)"
      ],
      "metadata": {
        "colab": {
          "base_uri": "https://localhost:8080/",
          "height": 373
        },
        "id": "3Q7c3H9yX0Az",
        "outputId": "9a6efc6f-711b-4470-891f-322c06b23ba3"
      },
      "execution_count": 8,
      "outputs": [
        {
          "output_type": "stream",
          "name": "stdout",
          "text": [
            "Epoch 1/10\n",
            " 420/1840 [=====>........................] - ETA: 1:10:24 - loss: 0.5540 - accuracy: 0.8871"
          ]
        },
        {
          "output_type": "error",
          "ename": "KeyboardInterrupt",
          "evalue": "",
          "traceback": [
            "\u001b[0;31m---------------------------------------------------------------------------\u001b[0m",
            "\u001b[0;31mKeyboardInterrupt\u001b[0m                         Traceback (most recent call last)",
            "\u001b[0;32m<ipython-input-8-cc97d07c7f39>\u001b[0m in \u001b[0;36m<cell line: 18>\u001b[0;34m()\u001b[0m\n\u001b[1;32m     16\u001b[0m \u001b[0;34m\u001b[0m\u001b[0m\n\u001b[1;32m     17\u001b[0m \u001b[0;31m# Train the model\u001b[0m\u001b[0;34m\u001b[0m\u001b[0;34m\u001b[0m\u001b[0m\n\u001b[0;32m---> 18\u001b[0;31m \u001b[0mhistory1\u001b[0m \u001b[0;34m=\u001b[0m \u001b[0mmodel1\u001b[0m\u001b[0;34m.\u001b[0m\u001b[0mfit\u001b[0m\u001b[0;34m(\u001b[0m\u001b[0mpadded_sequences\u001b[0m\u001b[0;34m,\u001b[0m \u001b[0mlabels\u001b[0m\u001b[0;34m,\u001b[0m \u001b[0mepochs\u001b[0m\u001b[0;34m=\u001b[0m\u001b[0;36m10\u001b[0m\u001b[0;34m,\u001b[0m \u001b[0mvalidation_split\u001b[0m\u001b[0;34m=\u001b[0m\u001b[0;36m0.2\u001b[0m\u001b[0;34m)\u001b[0m\u001b[0;34m\u001b[0m\u001b[0;34m\u001b[0m\u001b[0m\n\u001b[0m\u001b[1;32m     19\u001b[0m \u001b[0mprint\u001b[0m\u001b[0;34m(\u001b[0m\u001b[0mhistory1\u001b[0m\u001b[0;34m.\u001b[0m\u001b[0mhistory\u001b[0m\u001b[0;34m)\u001b[0m\u001b[0;34m\u001b[0m\u001b[0;34m\u001b[0m\u001b[0m\n",
            "\u001b[0;32m/usr/local/lib/python3.10/dist-packages/keras/src/utils/traceback_utils.py\u001b[0m in \u001b[0;36merror_handler\u001b[0;34m(*args, **kwargs)\u001b[0m\n\u001b[1;32m     63\u001b[0m         \u001b[0mfiltered_tb\u001b[0m \u001b[0;34m=\u001b[0m \u001b[0;32mNone\u001b[0m\u001b[0;34m\u001b[0m\u001b[0;34m\u001b[0m\u001b[0m\n\u001b[1;32m     64\u001b[0m         \u001b[0;32mtry\u001b[0m\u001b[0;34m:\u001b[0m\u001b[0;34m\u001b[0m\u001b[0;34m\u001b[0m\u001b[0m\n\u001b[0;32m---> 65\u001b[0;31m             \u001b[0;32mreturn\u001b[0m \u001b[0mfn\u001b[0m\u001b[0;34m(\u001b[0m\u001b[0;34m*\u001b[0m\u001b[0margs\u001b[0m\u001b[0;34m,\u001b[0m \u001b[0;34m**\u001b[0m\u001b[0mkwargs\u001b[0m\u001b[0;34m)\u001b[0m\u001b[0;34m\u001b[0m\u001b[0;34m\u001b[0m\u001b[0m\n\u001b[0m\u001b[1;32m     66\u001b[0m         \u001b[0;32mexcept\u001b[0m \u001b[0mException\u001b[0m \u001b[0;32mas\u001b[0m \u001b[0me\u001b[0m\u001b[0;34m:\u001b[0m\u001b[0;34m\u001b[0m\u001b[0;34m\u001b[0m\u001b[0m\n\u001b[1;32m     67\u001b[0m             \u001b[0mfiltered_tb\u001b[0m \u001b[0;34m=\u001b[0m \u001b[0m_process_traceback_frames\u001b[0m\u001b[0;34m(\u001b[0m\u001b[0me\u001b[0m\u001b[0;34m.\u001b[0m\u001b[0m__traceback__\u001b[0m\u001b[0;34m)\u001b[0m\u001b[0;34m\u001b[0m\u001b[0;34m\u001b[0m\u001b[0m\n",
            "\u001b[0;32m/usr/local/lib/python3.10/dist-packages/keras/src/engine/training.py\u001b[0m in \u001b[0;36mfit\u001b[0;34m(self, x, y, batch_size, epochs, verbose, callbacks, validation_split, validation_data, shuffle, class_weight, sample_weight, initial_epoch, steps_per_epoch, validation_steps, validation_batch_size, validation_freq, max_queue_size, workers, use_multiprocessing)\u001b[0m\n\u001b[1;32m   1805\u001b[0m                         ):\n\u001b[1;32m   1806\u001b[0m                             \u001b[0mcallbacks\u001b[0m\u001b[0;34m.\u001b[0m\u001b[0mon_train_batch_begin\u001b[0m\u001b[0;34m(\u001b[0m\u001b[0mstep\u001b[0m\u001b[0;34m)\u001b[0m\u001b[0;34m\u001b[0m\u001b[0;34m\u001b[0m\u001b[0m\n\u001b[0;32m-> 1807\u001b[0;31m                             \u001b[0mtmp_logs\u001b[0m \u001b[0;34m=\u001b[0m \u001b[0mself\u001b[0m\u001b[0;34m.\u001b[0m\u001b[0mtrain_function\u001b[0m\u001b[0;34m(\u001b[0m\u001b[0miterator\u001b[0m\u001b[0;34m)\u001b[0m\u001b[0;34m\u001b[0m\u001b[0;34m\u001b[0m\u001b[0m\n\u001b[0m\u001b[1;32m   1808\u001b[0m                             \u001b[0;32mif\u001b[0m \u001b[0mdata_handler\u001b[0m\u001b[0;34m.\u001b[0m\u001b[0mshould_sync\u001b[0m\u001b[0;34m:\u001b[0m\u001b[0;34m\u001b[0m\u001b[0;34m\u001b[0m\u001b[0m\n\u001b[1;32m   1809\u001b[0m                                 \u001b[0mcontext\u001b[0m\u001b[0;34m.\u001b[0m\u001b[0masync_wait\u001b[0m\u001b[0;34m(\u001b[0m\u001b[0;34m)\u001b[0m\u001b[0;34m\u001b[0m\u001b[0;34m\u001b[0m\u001b[0m\n",
            "\u001b[0;32m/usr/local/lib/python3.10/dist-packages/tensorflow/python/util/traceback_utils.py\u001b[0m in \u001b[0;36merror_handler\u001b[0;34m(*args, **kwargs)\u001b[0m\n\u001b[1;32m    148\u001b[0m     \u001b[0mfiltered_tb\u001b[0m \u001b[0;34m=\u001b[0m \u001b[0;32mNone\u001b[0m\u001b[0;34m\u001b[0m\u001b[0;34m\u001b[0m\u001b[0m\n\u001b[1;32m    149\u001b[0m     \u001b[0;32mtry\u001b[0m\u001b[0;34m:\u001b[0m\u001b[0;34m\u001b[0m\u001b[0;34m\u001b[0m\u001b[0m\n\u001b[0;32m--> 150\u001b[0;31m       \u001b[0;32mreturn\u001b[0m \u001b[0mfn\u001b[0m\u001b[0;34m(\u001b[0m\u001b[0;34m*\u001b[0m\u001b[0margs\u001b[0m\u001b[0;34m,\u001b[0m \u001b[0;34m**\u001b[0m\u001b[0mkwargs\u001b[0m\u001b[0;34m)\u001b[0m\u001b[0;34m\u001b[0m\u001b[0;34m\u001b[0m\u001b[0m\n\u001b[0m\u001b[1;32m    151\u001b[0m     \u001b[0;32mexcept\u001b[0m \u001b[0mException\u001b[0m \u001b[0;32mas\u001b[0m \u001b[0me\u001b[0m\u001b[0;34m:\u001b[0m\u001b[0;34m\u001b[0m\u001b[0;34m\u001b[0m\u001b[0m\n\u001b[1;32m    152\u001b[0m       \u001b[0mfiltered_tb\u001b[0m \u001b[0;34m=\u001b[0m \u001b[0m_process_traceback_frames\u001b[0m\u001b[0;34m(\u001b[0m\u001b[0me\u001b[0m\u001b[0;34m.\u001b[0m\u001b[0m__traceback__\u001b[0m\u001b[0;34m)\u001b[0m\u001b[0;34m\u001b[0m\u001b[0;34m\u001b[0m\u001b[0m\n",
            "\u001b[0;32m/usr/local/lib/python3.10/dist-packages/tensorflow/python/eager/polymorphic_function/polymorphic_function.py\u001b[0m in \u001b[0;36m__call__\u001b[0;34m(self, *args, **kwds)\u001b[0m\n\u001b[1;32m    830\u001b[0m \u001b[0;34m\u001b[0m\u001b[0m\n\u001b[1;32m    831\u001b[0m       \u001b[0;32mwith\u001b[0m \u001b[0mOptionalXlaContext\u001b[0m\u001b[0;34m(\u001b[0m\u001b[0mself\u001b[0m\u001b[0;34m.\u001b[0m\u001b[0m_jit_compile\u001b[0m\u001b[0;34m)\u001b[0m\u001b[0;34m:\u001b[0m\u001b[0;34m\u001b[0m\u001b[0;34m\u001b[0m\u001b[0m\n\u001b[0;32m--> 832\u001b[0;31m         \u001b[0mresult\u001b[0m \u001b[0;34m=\u001b[0m \u001b[0mself\u001b[0m\u001b[0;34m.\u001b[0m\u001b[0m_call\u001b[0m\u001b[0;34m(\u001b[0m\u001b[0;34m*\u001b[0m\u001b[0margs\u001b[0m\u001b[0;34m,\u001b[0m \u001b[0;34m**\u001b[0m\u001b[0mkwds\u001b[0m\u001b[0;34m)\u001b[0m\u001b[0;34m\u001b[0m\u001b[0;34m\u001b[0m\u001b[0m\n\u001b[0m\u001b[1;32m    833\u001b[0m \u001b[0;34m\u001b[0m\u001b[0m\n\u001b[1;32m    834\u001b[0m       \u001b[0mnew_tracing_count\u001b[0m \u001b[0;34m=\u001b[0m \u001b[0mself\u001b[0m\u001b[0;34m.\u001b[0m\u001b[0mexperimental_get_tracing_count\u001b[0m\u001b[0;34m(\u001b[0m\u001b[0;34m)\u001b[0m\u001b[0;34m\u001b[0m\u001b[0;34m\u001b[0m\u001b[0m\n",
            "\u001b[0;32m/usr/local/lib/python3.10/dist-packages/tensorflow/python/eager/polymorphic_function/polymorphic_function.py\u001b[0m in \u001b[0;36m_call\u001b[0;34m(self, *args, **kwds)\u001b[0m\n\u001b[1;32m    866\u001b[0m       \u001b[0;31m# In this case we have created variables on the first call, so we run the\u001b[0m\u001b[0;34m\u001b[0m\u001b[0;34m\u001b[0m\u001b[0m\n\u001b[1;32m    867\u001b[0m       \u001b[0;31m# defunned version which is guaranteed to never create variables.\u001b[0m\u001b[0;34m\u001b[0m\u001b[0;34m\u001b[0m\u001b[0m\n\u001b[0;32m--> 868\u001b[0;31m       return tracing_compilation.call_function(\n\u001b[0m\u001b[1;32m    869\u001b[0m           \u001b[0margs\u001b[0m\u001b[0;34m,\u001b[0m \u001b[0mkwds\u001b[0m\u001b[0;34m,\u001b[0m \u001b[0mself\u001b[0m\u001b[0;34m.\u001b[0m\u001b[0m_no_variable_creation_config\u001b[0m\u001b[0;34m\u001b[0m\u001b[0;34m\u001b[0m\u001b[0m\n\u001b[1;32m    870\u001b[0m       )\n",
            "\u001b[0;32m/usr/local/lib/python3.10/dist-packages/tensorflow/python/eager/polymorphic_function/tracing_compilation.py\u001b[0m in \u001b[0;36mcall_function\u001b[0;34m(args, kwargs, tracing_options)\u001b[0m\n\u001b[1;32m    137\u001b[0m   \u001b[0mbound_args\u001b[0m \u001b[0;34m=\u001b[0m \u001b[0mfunction\u001b[0m\u001b[0;34m.\u001b[0m\u001b[0mfunction_type\u001b[0m\u001b[0;34m.\u001b[0m\u001b[0mbind\u001b[0m\u001b[0;34m(\u001b[0m\u001b[0;34m*\u001b[0m\u001b[0margs\u001b[0m\u001b[0;34m,\u001b[0m \u001b[0;34m**\u001b[0m\u001b[0mkwargs\u001b[0m\u001b[0;34m)\u001b[0m\u001b[0;34m\u001b[0m\u001b[0;34m\u001b[0m\u001b[0m\n\u001b[1;32m    138\u001b[0m   \u001b[0mflat_inputs\u001b[0m \u001b[0;34m=\u001b[0m \u001b[0mfunction\u001b[0m\u001b[0;34m.\u001b[0m\u001b[0mfunction_type\u001b[0m\u001b[0;34m.\u001b[0m\u001b[0munpack_inputs\u001b[0m\u001b[0;34m(\u001b[0m\u001b[0mbound_args\u001b[0m\u001b[0;34m)\u001b[0m\u001b[0;34m\u001b[0m\u001b[0;34m\u001b[0m\u001b[0m\n\u001b[0;32m--> 139\u001b[0;31m   return function._call_flat(  # pylint: disable=protected-access\n\u001b[0m\u001b[1;32m    140\u001b[0m       \u001b[0mflat_inputs\u001b[0m\u001b[0;34m,\u001b[0m \u001b[0mcaptured_inputs\u001b[0m\u001b[0;34m=\u001b[0m\u001b[0mfunction\u001b[0m\u001b[0;34m.\u001b[0m\u001b[0mcaptured_inputs\u001b[0m\u001b[0;34m\u001b[0m\u001b[0;34m\u001b[0m\u001b[0m\n\u001b[1;32m    141\u001b[0m   )\n",
            "\u001b[0;32m/usr/local/lib/python3.10/dist-packages/tensorflow/python/eager/polymorphic_function/concrete_function.py\u001b[0m in \u001b[0;36m_call_flat\u001b[0;34m(self, tensor_inputs, captured_inputs)\u001b[0m\n\u001b[1;32m   1321\u001b[0m         and executing_eagerly):\n\u001b[1;32m   1322\u001b[0m       \u001b[0;31m# No tape is watching; skip to running the function.\u001b[0m\u001b[0;34m\u001b[0m\u001b[0;34m\u001b[0m\u001b[0m\n\u001b[0;32m-> 1323\u001b[0;31m       \u001b[0;32mreturn\u001b[0m \u001b[0mself\u001b[0m\u001b[0;34m.\u001b[0m\u001b[0m_inference_function\u001b[0m\u001b[0;34m.\u001b[0m\u001b[0mcall_preflattened\u001b[0m\u001b[0;34m(\u001b[0m\u001b[0margs\u001b[0m\u001b[0;34m)\u001b[0m\u001b[0;34m\u001b[0m\u001b[0;34m\u001b[0m\u001b[0m\n\u001b[0m\u001b[1;32m   1324\u001b[0m     forward_backward = self._select_forward_and_backward_functions(\n\u001b[1;32m   1325\u001b[0m         \u001b[0margs\u001b[0m\u001b[0;34m,\u001b[0m\u001b[0;34m\u001b[0m\u001b[0;34m\u001b[0m\u001b[0m\n",
            "\u001b[0;32m/usr/local/lib/python3.10/dist-packages/tensorflow/python/eager/polymorphic_function/atomic_function.py\u001b[0m in \u001b[0;36mcall_preflattened\u001b[0;34m(self, args)\u001b[0m\n\u001b[1;32m    214\u001b[0m   \u001b[0;32mdef\u001b[0m \u001b[0mcall_preflattened\u001b[0m\u001b[0;34m(\u001b[0m\u001b[0mself\u001b[0m\u001b[0;34m,\u001b[0m \u001b[0margs\u001b[0m\u001b[0;34m:\u001b[0m \u001b[0mSequence\u001b[0m\u001b[0;34m[\u001b[0m\u001b[0mcore\u001b[0m\u001b[0;34m.\u001b[0m\u001b[0mTensor\u001b[0m\u001b[0;34m]\u001b[0m\u001b[0;34m)\u001b[0m \u001b[0;34m->\u001b[0m \u001b[0mAny\u001b[0m\u001b[0;34m:\u001b[0m\u001b[0;34m\u001b[0m\u001b[0;34m\u001b[0m\u001b[0m\n\u001b[1;32m    215\u001b[0m     \u001b[0;34m\"\"\"Calls with flattened tensor inputs and returns the structured output.\"\"\"\u001b[0m\u001b[0;34m\u001b[0m\u001b[0;34m\u001b[0m\u001b[0m\n\u001b[0;32m--> 216\u001b[0;31m     \u001b[0mflat_outputs\u001b[0m \u001b[0;34m=\u001b[0m \u001b[0mself\u001b[0m\u001b[0;34m.\u001b[0m\u001b[0mcall_flat\u001b[0m\u001b[0;34m(\u001b[0m\u001b[0;34m*\u001b[0m\u001b[0margs\u001b[0m\u001b[0;34m)\u001b[0m\u001b[0;34m\u001b[0m\u001b[0;34m\u001b[0m\u001b[0m\n\u001b[0m\u001b[1;32m    217\u001b[0m     \u001b[0;32mreturn\u001b[0m \u001b[0mself\u001b[0m\u001b[0;34m.\u001b[0m\u001b[0mfunction_type\u001b[0m\u001b[0;34m.\u001b[0m\u001b[0mpack_output\u001b[0m\u001b[0;34m(\u001b[0m\u001b[0mflat_outputs\u001b[0m\u001b[0;34m)\u001b[0m\u001b[0;34m\u001b[0m\u001b[0;34m\u001b[0m\u001b[0m\n\u001b[1;32m    218\u001b[0m \u001b[0;34m\u001b[0m\u001b[0m\n",
            "\u001b[0;32m/usr/local/lib/python3.10/dist-packages/tensorflow/python/eager/polymorphic_function/atomic_function.py\u001b[0m in \u001b[0;36mcall_flat\u001b[0;34m(self, *args)\u001b[0m\n\u001b[1;32m    249\u001b[0m         \u001b[0;32mwith\u001b[0m \u001b[0mrecord\u001b[0m\u001b[0;34m.\u001b[0m\u001b[0mstop_recording\u001b[0m\u001b[0;34m(\u001b[0m\u001b[0;34m)\u001b[0m\u001b[0;34m:\u001b[0m\u001b[0;34m\u001b[0m\u001b[0;34m\u001b[0m\u001b[0m\n\u001b[1;32m    250\u001b[0m           \u001b[0;32mif\u001b[0m \u001b[0mself\u001b[0m\u001b[0;34m.\u001b[0m\u001b[0m_bound_context\u001b[0m\u001b[0;34m.\u001b[0m\u001b[0mexecuting_eagerly\u001b[0m\u001b[0;34m(\u001b[0m\u001b[0;34m)\u001b[0m\u001b[0;34m:\u001b[0m\u001b[0;34m\u001b[0m\u001b[0;34m\u001b[0m\u001b[0m\n\u001b[0;32m--> 251\u001b[0;31m             outputs = self._bound_context.call_function(\n\u001b[0m\u001b[1;32m    252\u001b[0m                 \u001b[0mself\u001b[0m\u001b[0;34m.\u001b[0m\u001b[0mname\u001b[0m\u001b[0;34m,\u001b[0m\u001b[0;34m\u001b[0m\u001b[0;34m\u001b[0m\u001b[0m\n\u001b[1;32m    253\u001b[0m                 \u001b[0mlist\u001b[0m\u001b[0;34m(\u001b[0m\u001b[0margs\u001b[0m\u001b[0;34m)\u001b[0m\u001b[0;34m,\u001b[0m\u001b[0;34m\u001b[0m\u001b[0;34m\u001b[0m\u001b[0m\n",
            "\u001b[0;32m/usr/local/lib/python3.10/dist-packages/tensorflow/python/eager/context.py\u001b[0m in \u001b[0;36mcall_function\u001b[0;34m(self, name, tensor_inputs, num_outputs)\u001b[0m\n\u001b[1;32m   1484\u001b[0m     \u001b[0mcancellation_context\u001b[0m \u001b[0;34m=\u001b[0m \u001b[0mcancellation\u001b[0m\u001b[0;34m.\u001b[0m\u001b[0mcontext\u001b[0m\u001b[0;34m(\u001b[0m\u001b[0;34m)\u001b[0m\u001b[0;34m\u001b[0m\u001b[0;34m\u001b[0m\u001b[0m\n\u001b[1;32m   1485\u001b[0m     \u001b[0;32mif\u001b[0m \u001b[0mcancellation_context\u001b[0m \u001b[0;32mis\u001b[0m \u001b[0;32mNone\u001b[0m\u001b[0;34m:\u001b[0m\u001b[0;34m\u001b[0m\u001b[0;34m\u001b[0m\u001b[0m\n\u001b[0;32m-> 1486\u001b[0;31m       outputs = execute.execute(\n\u001b[0m\u001b[1;32m   1487\u001b[0m           \u001b[0mname\u001b[0m\u001b[0;34m.\u001b[0m\u001b[0mdecode\u001b[0m\u001b[0;34m(\u001b[0m\u001b[0;34m\"utf-8\"\u001b[0m\u001b[0;34m)\u001b[0m\u001b[0;34m,\u001b[0m\u001b[0;34m\u001b[0m\u001b[0;34m\u001b[0m\u001b[0m\n\u001b[1;32m   1488\u001b[0m           \u001b[0mnum_outputs\u001b[0m\u001b[0;34m=\u001b[0m\u001b[0mnum_outputs\u001b[0m\u001b[0;34m,\u001b[0m\u001b[0;34m\u001b[0m\u001b[0;34m\u001b[0m\u001b[0m\n",
            "\u001b[0;32m/usr/local/lib/python3.10/dist-packages/tensorflow/python/eager/execute.py\u001b[0m in \u001b[0;36mquick_execute\u001b[0;34m(op_name, num_outputs, inputs, attrs, ctx, name)\u001b[0m\n\u001b[1;32m     51\u001b[0m   \u001b[0;32mtry\u001b[0m\u001b[0;34m:\u001b[0m\u001b[0;34m\u001b[0m\u001b[0;34m\u001b[0m\u001b[0m\n\u001b[1;32m     52\u001b[0m     \u001b[0mctx\u001b[0m\u001b[0;34m.\u001b[0m\u001b[0mensure_initialized\u001b[0m\u001b[0;34m(\u001b[0m\u001b[0;34m)\u001b[0m\u001b[0;34m\u001b[0m\u001b[0;34m\u001b[0m\u001b[0m\n\u001b[0;32m---> 53\u001b[0;31m     tensors = pywrap_tfe.TFE_Py_Execute(ctx._handle, device_name, op_name,\n\u001b[0m\u001b[1;32m     54\u001b[0m                                         inputs, attrs, num_outputs)\n\u001b[1;32m     55\u001b[0m   \u001b[0;32mexcept\u001b[0m \u001b[0mcore\u001b[0m\u001b[0;34m.\u001b[0m\u001b[0m_NotOkStatusException\u001b[0m \u001b[0;32mas\u001b[0m \u001b[0me\u001b[0m\u001b[0;34m:\u001b[0m\u001b[0;34m\u001b[0m\u001b[0;34m\u001b[0m\u001b[0m\n",
            "\u001b[0;31mKeyboardInterrupt\u001b[0m: "
          ]
        }
      ]
    },
    {
      "cell_type": "code",
      "source": [
        "\n",
        "# Save the model\n",
        "model1.save('model_1.keras')\n",
        "\n"
      ],
      "metadata": {
        "id": "Yhu5Mzul1O33"
      },
      "execution_count": null,
      "outputs": []
    },
    {
      "cell_type": "code",
      "source": [
        "import tensorflow as tf\n",
        "\n",
        "# Load the model\n",
        "model1 = tf.keras.models.load_model('model_1.keras')\n"
      ],
      "metadata": {
        "id": "sMii_gGzWhhS"
      },
      "execution_count": null,
      "outputs": []
    },
    {
      "cell_type": "code",
      "source": [
        "import matplotlib.pyplot as plt\n",
        "import numpy as np\n",
        "\n",
        "# Plot accuracy\n",
        "plt.figure()\n",
        "plt.plot(np.arange(1, len(history1.history['accuracy']) + 1), history1.history['accuracy'])\n",
        "plt.plot(np.arange(1, len(history1.history['val_accuracy']) + 1), history1.history['val_accuracy'])\n",
        "plt.title('Model accuracy')\n",
        "plt.ylabel('Accuracy')\n",
        "plt.xlabel('Epoch')\n",
        "plt.xticks(np.arange(1, len(history1.history['accuracy']) + 1, 1))\n",
        "plt.legend(['Train', 'Validation'], loc='upper left')\n",
        "plt.show()\n",
        "\n",
        "# Plot loss\n",
        "plt.figure()\n",
        "plt.plot(np.arange(1, len(history1.history['loss']) + 1), history1.history['loss'])\n",
        "plt.plot(np.arange(1, len(history1.history['val_loss']) + 1), history1.history['val_loss'])\n",
        "plt.title('Model loss')\n",
        "plt.ylabel('Loss')\n",
        "plt.xlabel('Epoch')\n",
        "plt.xticks(np.arange(1, len(history1.history['loss']) + 1, 1))\n",
        "plt.legend(['Train', 'Validation'], loc='upper left')\n",
        "plt.show()"
      ],
      "metadata": {
        "colab": {
          "base_uri": "https://localhost:8080/",
          "height": 927
        },
        "id": "Du5CPj1DIrS0",
        "outputId": "68938779-3882-4b24-f20a-676fa025277e"
      },
      "execution_count": null,
      "outputs": [
        {
          "output_type": "display_data",
          "data": {
            "text/plain": [
              "<Figure size 640x480 with 1 Axes>"
            ],
            "image/png": "[encoded data removed]"
          },
          "metadata": {}
        },
        {
          "output_type": "display_data",
          "data": {
            "text/plain": [
              "<Figure size 640x480 with 1 Axes>"
            ],
            "image/png": "[encoded data removed]"
          },
          "metadata": {}
        }
      ]
    },
    {
      "cell_type": "code",
      "source": [
        "\n",
        "# Make predictions on the test data\n",
        "predictions1 = model1.predict(padded_sequences)\n",
        "\n",
        "# Convert the predictions to binary values\n",
        "for i in range(len(predictions1)):\n",
        "    if predictions1[i] > 0.5:\n",
        "        predictions1[i] = 1\n",
        "    else:\n",
        "        predictions1[i] = 0\n",
        "\n",
        "# Evaluate the model on the test data\n",
        "from sklearn.metrics import accuracy_score\n",
        "accuracy = accuracy_score(labels, predictions1)\n",
        "print(\"Accuracy:\", accuracy)\n"
      ],
      "metadata": {
        "colab": {
          "base_uri": "https://localhost:8080/"
        },
        "id": "sk4fFdnJcjpP",
        "outputId": "504bc25e-1f1b-436d-cf93-fdfcb53824cd"
      },
      "execution_count": null,
      "outputs": [
        {
          "output_type": "stream",
          "name": "stdout",
          "text": [
            "2300/2300 [==============================] - 27s 11ms/step\n",
            "Accuracy: 0.9935032279986409\n"
          ]
        }
      ]
    },
    {
      "cell_type": "code",
      "source": [
        "\n",
        "# Calculate the number of true positives, false negatives, true negatives, and false positives.\n",
        "tp = 0\n",
        "fn = 0\n",
        "tn = 0\n",
        "fp = 0\n",
        "\n",
        "for i in range(len(labels)):\n",
        "  if labels[i] == 1 and predictions1[i] == 1:\n",
        "    tp += 1\n",
        "  elif labels[i] == 1 and predictions1[i] == 0:\n",
        "    fn += 1\n",
        "  elif labels[i] == 0 and predictions1[i] == 0:\n",
        "    tn += 1\n",
        "  elif labels[i] == 0 and predictions1[i] == 1:\n",
        "    fp += 1\n",
        "\n",
        "# Calculate the percentages of true positives, false negatives, true negatives, and false positives.\n",
        "tp_percent = tp / (tp + fn) * 100\n",
        "fn_percent = fn / (tp + fn) * 100\n",
        "tn_percent = tn / (tn + fp) * 100\n",
        "fp_percent = fp / (tn + fp) * 100\n",
        "\n",
        "# Print the percentages of true positives, false negatives, true negatives, and false positives.\n",
        "print(\"True Positives:\", tp_percent)\n",
        "print(\"False Negatives:\", fn_percent)\n",
        "print(\"True Negatives:\", tn_percent)\n",
        "print(\"False Positives:\", fp_percent)\n"
      ],
      "metadata": {
        "colab": {
          "base_uri": "https://localhost:8080/"
        },
        "id": "Av8M_FVweeLR",
        "outputId": "0f0ed2cf-d966-4993-a038-eb691add7315"
      },
      "execution_count": null,
      "outputs": [
        {
          "output_type": "stream",
          "name": "stdout",
          "text": [
            "True Positives: 99.56960322797579\n",
            "False Negatives: 0.43039677202420984\n",
            "True Negatives: 99.12637362637363\n",
            "False Positives: 0.8736263736263736\n"
          ]
        }
      ]
    },
    {
      "cell_type": "markdown",
      "source": [
        "#Modifiying the model being created taking out the droupout layers"
      ],
      "metadata": {
        "id": "w6ltixosloTh"
      }
    },
    {
      "cell_type": "code",
      "source": [
        "# Create the model\n",
        "model2 = tf.keras.Sequential([\n",
        "    tf.keras.layers.Embedding(input_dim=200, output_dim=128, mask_zero=True),\n",
        "    tf.keras.layers.Conv1D(128, 5, padding='same', activation='relu'),\n",
        "    tf.keras.layers.MaxPooling1D(),\n",
        "    tf.keras.layers.Bidirectional(tf.keras.layers.LSTM(256, return_sequences=True)),\n",
        "    tf.keras.layers.Bidirectional(tf.keras.layers.LSTM(256)),\n",
        "    tf.keras.layers.Dense(128, activation='elu', kernel_regularizer=tf.keras.regularizers.l2(0.01)),\n",
        "    tf.keras.layers.Dense(64, activation='elu', kernel_regularizer=tf.keras.regularizers.l2(0.01)),\n",
        "    tf.keras.layers.Dense(1, activation='sigmoid')\n",
        "])\n",
        "# Compile the model\n",
        "model2.compile(loss='binary_crossentropy', optimizer='adam', metrics=['accuracy'])\n",
        "\n",
        "# Train the model\n",
        "history2 = model2.fit(padded_sequences, labels, epochs=10, validation_split=0.2)\n",
        "print(history2.history)"
      ],
      "metadata": {
        "colab": {
          "base_uri": "https://localhost:8080/"
        },
        "id": "CV2D_6Pklns7",
        "outputId": "ce5b99a6-ae11-474b-db82-8b589a20fc83"
      },
      "execution_count": null,
      "outputs": [
        {
          "output_type": "stream",
          "name": "stdout",
          "text": [
            "Epoch 1/10\n",
            "1840/1840 [==============================] - 78s 38ms/step - loss: 0.2337 - accuracy: 0.9382 - val_loss: 0.1008 - val_accuracy: 0.9671\n",
            "Epoch 2/10\n",
            "1840/1840 [==============================] - 67s 36ms/step - loss: 0.0914 - accuracy: 0.9711 - val_loss: 0.1299 - val_accuracy: 0.9622\n",
            "Epoch 3/10\n",
            "1840/1840 [==============================] - 67s 37ms/step - loss: 0.0748 - accuracy: 0.9763 - val_loss: 0.0672 - val_accuracy: 0.9795\n",
            "Epoch 4/10\n",
            "1840/1840 [==============================] - 68s 37ms/step - loss: 0.0621 - accuracy: 0.9805 - val_loss: 0.0597 - val_accuracy: 0.9820\n",
            "Epoch 5/10\n",
            "1840/1840 [==============================] - 63s 34ms/step - loss: 0.0490 - accuracy: 0.9856 - val_loss: 0.0692 - val_accuracy: 0.9778\n",
            "Epoch 6/10\n",
            "1840/1840 [==============================] - 69s 37ms/step - loss: 0.0435 - accuracy: 0.9872 - val_loss: 0.0609 - val_accuracy: 0.9818\n",
            "Epoch 7/10\n",
            "1840/1840 [==============================] - 63s 34ms/step - loss: 0.0421 - accuracy: 0.9890 - val_loss: 0.0763 - val_accuracy: 0.9838\n",
            "Epoch 8/10\n",
            "1840/1840 [==============================] - 63s 34ms/step - loss: 0.0316 - accuracy: 0.9914 - val_loss: 0.0599 - val_accuracy: 0.9837\n",
            "Epoch 9/10\n",
            "1840/1840 [==============================] - 68s 37ms/step - loss: 0.0293 - accuracy: 0.9920 - val_loss: 0.0652 - val_accuracy: 0.9819\n",
            "Epoch 10/10\n",
            "1840/1840 [==============================] - 68s 37ms/step - loss: 0.0241 - accuracy: 0.9935 - val_loss: 0.0834 - val_accuracy: 0.9804\n",
            "{'loss': [0.23365384340286255, 0.09137164056301117, 0.07482220232486725, 0.06211640313267708, 0.04900435358285904, 0.04345233738422394, 0.0421253964304924, 0.03156016021966934, 0.029301868751645088, 0.024112563580274582], 'accuracy': [0.9382432699203491, 0.971100926399231, 0.9763336777687073, 0.9805470705032349, 0.9856269359588623, 0.9872069358825684, 0.988956868648529, 0.991420328617096, 0.9919809699058533, 0.9935269951820374], 'val_loss': [0.10076534748077393, 0.12989766895771027, 0.06723368912935257, 0.05973098799586296, 0.06922679394483566, 0.06090350076556206, 0.07629498839378357, 0.059870582073926926, 0.06516343355178833, 0.0833619236946106], 'val_accuracy': [0.9671083688735962, 0.9622154235839844, 0.9795446991920471, 0.981991171836853, 0.9777777791023254, 0.9817872643470764, 0.9838260412216187, 0.983690083026886, 0.9818552732467651, 0.980428159236908]}\n"
          ]
        }
      ]
    },
    {
      "cell_type": "code",
      "source": [
        "# Save the model\n",
        "model2.save('model_2.keras')\n",
        "# Load the model\n",
        "model2 = tf.keras.models.load_model('model_2.keras')"
      ],
      "metadata": {
        "id": "Js_4ii1ll0tO"
      },
      "execution_count": null,
      "outputs": []
    },
    {
      "cell_type": "code",
      "source": [
        "# Plot accuracy\n",
        "plt.figure()\n",
        "plt.plot(np.arange(1, len(history2.history['accuracy']) + 1), history2.history['accuracy'])\n",
        "plt.plot(np.arange(1, len(history2.history['val_accuracy']) + 1), history22.history['val_accuracy'])\n",
        "plt.title('Model accuracy')\n",
        "plt.ylabel('Accuracy')\n",
        "plt.xlabel('Epoch')\n",
        "plt.xticks(np.arange(1, len(history2.history['accuracy']) + 1, 1))\n",
        "plt.legend(['Train', 'Validation'], loc='upper left')\n",
        "plt.show()\n",
        "\n",
        "# Plot loss\n",
        "plt.figure()\n",
        "plt.plot(np.arange(1, len(history2.history['loss']) + 1), history2.history['loss'])\n",
        "plt.plot(np.arange(1, len(history2.history['val_loss']) + 1), history2.history['val_loss'])\n",
        "plt.title('Model loss')\n",
        "plt.ylabel('Loss')\n",
        "plt.xlabel('Epoch')\n",
        "plt.xticks(np.arange(1, len(history2.history['loss']) + 1, 1))\n",
        "plt.legend(['Train', 'Validation'], loc='upper left')\n",
        "plt.show()"
      ],
      "metadata": {
        "colab": {
          "base_uri": "https://localhost:8080/",
          "height": 927
        },
        "id": "OSXso3gBwqBZ",
        "outputId": "86a7b9e6-cb90-4645-9bdb-6da15f75e3e3"
      },
      "execution_count": null,
      "outputs": [
        {
          "output_type": "display_data",
          "data": {
            "text/plain": [
              "<Figure size 640x480 with 1 Axes>"
            ],
            "image/png": "[encoded data removed]"
          },
          "metadata": {}
        },
        {
          "output_type": "display_data",
          "data": {
            "text/plain": [
              "<Figure size 640x480 with 1 Axes>"
            ],
            "image/png": "[encoded data removed]"
          },
          "metadata": {}
        }
      ]
    },
    {
      "cell_type": "code",
      "source": [
        "# Make predictions on the test data\n",
        "predictions2 = model.predict(padded_sequences)\n",
        "\n",
        "# Convert the predictions to binary values\n",
        "for i in range(len(predictions2)):\n",
        "    if predictions2[i] > 0.5:\n",
        "        predictions2[i] = 1\n",
        "    else:\n",
        "        predictions2[i] = 0\n",
        "\n",
        "# Evaluate the model on the test data\n",
        "from sklearn.metrics import accuracy_score\n",
        "accuracy = accuracy_score(labels, predictions2)\n",
        "print(\"Accuracy:\", accuracy)"
      ],
      "metadata": {
        "colab": {
          "base_uri": "https://localhost:8080/"
        },
        "id": "dM3MWHtgw8_e",
        "outputId": "8e410c5d-1f18-40d6-82a3-8edd3951bf9c"
      },
      "execution_count": null,
      "outputs": [
        {
          "output_type": "stream",
          "name": "stdout",
          "text": [
            "2300/2300 [==============================] - 29s 11ms/step\n",
            "Accuracy: 0.9920353380903839\n"
          ]
        }
      ]
    },
    {
      "cell_type": "code",
      "source": [
        "# Calculate the number of true positives, false negatives, true negatives, and false positives.\n",
        "tp = 0\n",
        "fn = 0\n",
        "tn = 0\n",
        "fp = 0\n",
        "\n",
        "for i in range(len(labels)):\n",
        "  if labels[i] == 1 and predictions2[i] == 1:\n",
        "    tp += 1\n",
        "  elif labels[i] == 1 and predictions2[i] == 0:\n",
        "    fn += 1\n",
        "  elif labels[i] == 0 and predictions2[i] == 0:\n",
        "    tn += 1\n",
        "  elif labels[i] == 0 and predictions2[i] == 1:\n",
        "    fp += 1\n",
        "\n",
        "# Calculate the percentages of true positives, false negatives, true negatives, and false positives.\n",
        "tp_percent = tp / (tp + fn) * 100\n",
        "fn_percent = fn / (tp + fn) * 100\n",
        "tn_percent = tn / (tn + fp) * 100\n",
        "fp_percent = fp / (tn + fp) * 100\n",
        "\n",
        "# Print the percentages of true positives, false negatives, true negatives, and false positives.\n",
        "print(\"True Positives:\", tp_percent)\n",
        "print(\"False Negatives:\", fn_percent)\n",
        "print(\"True Negatives:\", tn_percent)\n",
        "print(\"False Positives:\", fp_percent)"
      ],
      "metadata": {
        "colab": {
          "base_uri": "https://localhost:8080/"
        },
        "id": "gu8_Yz4wxCNu",
        "outputId": "eb04f23b-45bc-4a39-8de1-897672c6e969"
      },
      "execution_count": null,
      "outputs": [
        {
          "output_type": "stream",
          "name": "stdout",
          "text": [
            "True Positives: 98.773369199731\n",
            "False Negatives: 1.226630800268998\n",
            "True Negatives: 99.64285714285714\n",
            "False Positives: 0.35714285714285715\n"
          ]
        }
      ]
    },
    {
      "cell_type": "markdown",
      "source": [
        "# Modifiying the model being created, removing layer tf.keras.layers.Bidirectional(tf.keras.layers.LSTM(256, return_sequences=True))"
      ],
      "metadata": {
        "id": "GrsfqiEQxdRf"
      }
    },
    {
      "cell_type": "code",
      "source": [
        "# Create the model\n",
        "model3 = tf.keras.Sequential([\n",
        "    tf.keras.layers.Embedding(input_dim=200, output_dim=128, mask_zero=True),\n",
        "    tf.keras.layers.Conv1D(128, 5, padding='same', activation='relu'),\n",
        "    tf.keras.layers.MaxPooling1D(),\n",
        "    tf.keras.layers.Bidirectional(tf.keras.layers.LSTM(256)),\n",
        "    tf.keras.layers.Dropout(0.3),\n",
        "    tf.keras.layers.Dense(128, activation='elu', kernel_regularizer=tf.keras.regularizers.l2(0.01)),\n",
        "    tf.keras.layers.Dropout(0.3),\n",
        "    tf.keras.layers.Dense(64, activation='elu', kernel_regularizer=tf.keras.regularizers.l2(0.01)),\n",
        "    tf.keras.layers.Dense(1, activation='sigmoid')\n",
        "])\n",
        "# Compile the model\n",
        "model3.compile(loss='binary_crossentropy', optimizer='adam', metrics=['accuracy'])\n",
        "\n",
        "# Train the model\n",
        "history3 = model3.fit(padded_sequences, labels, epochs=10, validation_split=0.2)\n",
        "print(history3.history)"
      ],
      "metadata": {
        "colab": {
          "base_uri": "https://localhost:8080/"
        },
        "id": "15RtRwrmxcz8",
        "outputId": "5c25c911-04c5-4f42-867b-5857d4b98229"
      },
      "execution_count": null,
      "outputs": [
        {
          "output_type": "stream",
          "name": "stdout",
          "text": [
            "Epoch 1/10\n",
            "1840/1840 [==============================] - 42s 20ms/step - loss: 0.2502 - accuracy: 0.9342 - val_loss: 0.0950 - val_accuracy: 0.9701\n",
            "Epoch 2/10\n",
            "1840/1840 [==============================] - 35s 19ms/step - loss: 0.1050 - accuracy: 0.9685 - val_loss: 0.0902 - val_accuracy: 0.9687\n",
            "Epoch 3/10\n",
            "1840/1840 [==============================] - 33s 18ms/step - loss: 0.0847 - accuracy: 0.9751 - val_loss: 0.0805 - val_accuracy: 0.9761\n",
            "Epoch 4/10\n",
            "1840/1840 [==============================] - 35s 19ms/step - loss: 0.0731 - accuracy: 0.9795 - val_loss: 0.0662 - val_accuracy: 0.9808\n",
            "Epoch 5/10\n",
            "1840/1840 [==============================] - 33s 18ms/step - loss: 0.0587 - accuracy: 0.9839 - val_loss: 0.0717 - val_accuracy: 0.9789\n",
            "Epoch 6/10\n",
            "1840/1840 [==============================] - 34s 18ms/step - loss: 0.0519 - accuracy: 0.9864 - val_loss: 0.1241 - val_accuracy: 0.9747\n",
            "Epoch 7/10\n",
            "1840/1840 [==============================] - 35s 19ms/step - loss: 0.0453 - accuracy: 0.9881 - val_loss: 0.0653 - val_accuracy: 0.9803\n",
            "Epoch 8/10\n",
            "1840/1840 [==============================] - 36s 19ms/step - loss: 0.0419 - accuracy: 0.9903 - val_loss: 0.0664 - val_accuracy: 0.9829\n",
            "Epoch 9/10\n",
            "1840/1840 [==============================] - 35s 19ms/step - loss: 0.0426 - accuracy: 0.9911 - val_loss: 0.0722 - val_accuracy: 0.9797\n",
            "Epoch 10/10\n",
            "1840/1840 [==============================] - 37s 20ms/step - loss: 0.0274 - accuracy: 0.9935 - val_loss: 0.0808 - val_accuracy: 0.9814\n",
            "{'loss': [0.25018510222435, 0.10502469539642334, 0.08473756909370422, 0.07310480624437332, 0.05872299522161484, 0.051850780844688416, 0.045330557972192764, 0.04186955839395523, 0.042583297938108444, 0.027363114058971405], 'accuracy': [0.9341828227043152, 0.9684675335884094, 0.975093424320221, 0.9794937372207642, 0.9838770031929016, 0.9864084124565125, 0.9881243705749512, 0.9903330206871033, 0.9910805225372314, 0.9935439825057983], 'val_loss': [0.09504765272140503, 0.09020105749368668, 0.08049431443214417, 0.06620155274868011, 0.07171730697154999, 0.12413551658391953, 0.06533870846033096, 0.06637828052043915, 0.07216814905405045, 0.08081081509590149], 'val_accuracy': [0.9700985550880432, 0.96873939037323, 0.9760788083076477, 0.9807679057121277, 0.9789330363273621, 0.9747197031974792, 0.9802922010421753, 0.9829425811767578, 0.979680597782135, 0.9813795685768127]}\n"
          ]
        }
      ]
    },
    {
      "cell_type": "code",
      "source": [
        "# Save the model\n",
        "model3.save('model_3.keras')\n",
        "# Load the model\n",
        "model3 = tf.keras.models.load_model('model_3.keras')\n",
        "# Plot accuracy\n",
        "plt.figure()\n",
        "plt.plot(np.arange(1, len(history3.history['accuracy']) + 1), history3.history['accuracy'])\n",
        "plt.plot(np.arange(1, len(history3.history['val_accuracy']) + 1), history3.history['val_accuracy'])\n",
        "plt.title('Model accuracy')\n",
        "plt.ylabel('Accuracy')\n",
        "plt.xlabel('Epoch')\n",
        "plt.xticks(np.arange(1, len(history3.history['accuracy']) + 1, 1))\n",
        "plt.legend(['Train', 'Validation'], loc='upper left')\n",
        "plt.show()\n",
        "\n",
        "# Plot loss\n",
        "plt.figure()\n",
        "plt.plot(np.arange(1, len(history3.history['loss']) + 1), history3.history['loss'])\n",
        "plt.plot(np.arange(1, len(history3.history['val_loss']) + 1), history3.history['val_loss'])\n",
        "plt.title('Model loss')\n",
        "plt.ylabel('Loss')\n",
        "plt.xlabel('Epoch')\n",
        "plt.xticks(np.arange(1, len(history3.history['loss']) + 1, 1))\n",
        "plt.legend(['Train', 'Validation'], loc='upper left')\n",
        "plt.show()"
      ],
      "metadata": {
        "id": "lIPw92zCyu9B"
      },
      "execution_count": null,
      "outputs": []
    },
    {
      "cell_type": "code",
      "source": [
        "# Make predictions on the test data\n",
        "predictions3 = model.predict(padded_sequences)\n",
        "\n",
        "# Convert the predictions to binary values\n",
        "for i in range(len(predictions3)):\n",
        "    if predictions3[i] > 0.5:\n",
        "        predictions3[i] = 1\n",
        "    else:\n",
        "        predictions3[i] = 0\n",
        "\n",
        "# Evaluate the model on the test data\n",
        "from sklearn.metrics import accuracy_score\n",
        "accuracy = accuracy_score(labels, predictions3)\n",
        "print(\"Accuracy:\", accuracy)"
      ],
      "metadata": {
        "id": "Ri1iNonC5oCx"
      },
      "execution_count": null,
      "outputs": []
    },
    {
      "cell_type": "markdown",
      "source": [
        "#Model4"
      ],
      "metadata": {
        "id": "VHJoIN8KGXXu"
      }
    },
    {
      "cell_type": "code",
      "source": [
        "# Create the model\n",
        "model4 = tf.keras.Sequential([\n",
        "    tf.keras.layers.Embedding(input_dim=200, output_dim=128, mask_zero=True),\n",
        "    tf.keras.layers.Conv1D(128, 5, padding='same', activation='relu'),\n",
        "    tf.keras.layers.MaxPooling1D(),\n",
        "    tf.keras.layers.Bidirectional(tf.keras.layers.LSTM(256, return_sequences=True)),\n",
        "    tf.keras.layers.Bidirectional(tf.keras.layers.LSTM(256)),\n",
        "    tf.keras.layers.Dropout(0.3),\n",
        "    tf.keras.layers.Dense(128, activation='elu', kernel_regularizer=tf.keras.regularizers.l2(0.01)),\n",
        "    tf.keras.layers.Dropout(0.3),\n",
        "    tf.keras.layers.Dense(64, activation='elu', kernel_regularizer=tf.keras.regularizers.l2(0.01)),\n",
        "    tf.keras.layers.Dense(1, activation='sigmoid')\n",
        "])\n",
        "# Compile the model\n",
        "model4.compile(loss='binary_crossentropy', optimizer='adam', metrics=['accuracy'])\n",
        "\n",
        "# Train the model\n",
        "history4 = model1.fit(padded_sequences, labels, epochs=10, validation_split=0.2)\n",
        "print(history4.history)"
      ],
      "metadata": {
        "id": "bZ5c18kZGkJ4"
      },
      "execution_count": null,
      "outputs": []
    },
    {
      "cell_type": "code",
      "source": [
        "# Save the model\n",
        "model4.save('model_4.keras')\n",
        "# Load the model\n",
        "model4 = tf.keras.models.load_model('model_4.keras')\n",
        "# Plot accuracy\n",
        "plt.figure()\n",
        "plt.plot(np.arange(1, len(history4.history['accuracy']) + 1), history4.history['accuracy'])\n",
        "plt.plot(np.arange(1, len(history4.history['val_accuracy']) + 1), history4.history['val_accuracy'])\n",
        "plt.title('Model accuracy')\n",
        "plt.ylabel('Accuracy')\n",
        "plt.xlabel('Epoch')\n",
        "plt.xticks(np.arange(1, len(history4.history['accuracy']) + 1, 1))\n",
        "plt.legend(['Train', 'Validation'], loc='upper left')\n",
        "plt.show()\n",
        "\n",
        "# Plot loss\n",
        "plt.figure()\n",
        "plt.plot(np.arange(1, len(history4.history['loss']) + 1), history4.history['loss'])\n",
        "plt.plot(np.arange(1, len(history4.history['val_loss']) + 1), history4.history['val_loss'])\n",
        "plt.title('Model loss')\n",
        "plt.ylabel('Loss')\n",
        "plt.xlabel('Epoch')\n",
        "plt.xticks(np.arange(1, len(history3.history['loss']) + 1, 1))\n",
        "plt.legend(['Train', 'Validation'], loc='upper left')\n",
        "plt.show()"
      ],
      "metadata": {
        "id": "9Yw9CnppGrmA"
      },
      "execution_count": null,
      "outputs": []
    },
    {
      "cell_type": "code",
      "source": [
        "# Make predictions on the test data\n",
        "predictions4 = model.predict(padded_sequences)\n",
        "\n",
        "# Convert the predictions to binary values\n",
        "for i in range(len(predictions4)):\n",
        "    if predictions4[i] > 0.5:\n",
        "        predictions4[i] = 1\n",
        "    else:\n",
        "        predictions4[i] = 0\n",
        "\n",
        "# Evaluate the model on the test data\n",
        "from sklearn.metrics import accuracy_score\n",
        "accuracy = accuracy_score(labels, predictions4)\n",
        "print(\"Accuracy:\", accuracy)"
      ],
      "metadata": {
        "id": "U8-i8a7cG2kq"
      },
      "execution_count": null,
      "outputs": []
    },
    {
      "cell_type": "markdown",
      "source": [
        "#Feature Extraction"
      ],
      "metadata": {
        "id": "8OE77dM8wq4j"
      }
    },
    {
      "cell_type": "code",
      "source": [
        "# Feature\tExplanation\n",
        "# Raw Word Count\tThe number of words obtained after parsing the URL by special characters.\n",
        "# Brand Check for Domain\tIs domain of the analyzed URL in the brand name list?\n",
        "# Average Word Length\tThe average length of the words in the raw word list.\n",
        "# Longest Word Length\tThe length of the longest word in the raw word list.\n",
        "\n",
        "import numpy as np\n",
        "import re\n",
        "import collections\n",
        "\n",
        "def parse_url(url):\n",
        "  # Extract the domain name\n",
        "  domain = url.split(\".\")[1]\n",
        "\n",
        "  # Split the URL into words\n",
        "  words = re.split('[^a-zA-Z]', url)\n",
        "\n",
        "  # Remove empty strings\n",
        "  words = [word for word in words if word]\n",
        "\n",
        "  # Count the number of words\n",
        "  raw_word_count = len(words)\n",
        "\n",
        "  # Check if the domain is in the brand name list\n",
        "  brand_check_for_domain = 1 if domain in [\"google.com\", \"facebook.com\", \"amazon.com\"] else 0\n",
        "\n",
        "  # Calculate the average word length\n",
        "  total_word_length = sum(len(word) for word in words)\n",
        "  average_word_length = total_word_length / raw_word_count\n",
        "\n",
        "  # Calculate the longest word length\n",
        "  longest_word_length = max(len(word) for word in words)\n",
        "\n",
        "  return [raw_word_count, brand_check_for_domain, average_word_length, longest_word_length]\n",
        "\n",
        "# Parse the URLs in the combined_data array\n",
        "parsed_data = []\n",
        "for item in combined_data:\n",
        "  parsed_data.append([item[0], *parse_url(item[0]), item[1]])\n",
        "\n",
        "# Convert the parsed data to a numpy array\n",
        "parsed_data = np.array(parsed_data)\n",
        "\n",
        "# Print the first 10 rows of the parsed data\n",
        "print(parsed_data[:10])\n"
      ],
      "metadata": {
        "colab": {
          "base_uri": "https://localhost:8080/"
        },
        "id": "y23PBckCLy-7",
        "outputId": "cb800c27-a0a9-40c9-eb64-1b3e04b0030e"
      },
      "execution_count": null,
      "outputs": [
        {
          "output_type": "stream",
          "name": "stdout",
          "text": [
            "[['http://marcel-niemyjski.eu/approve.htm' '6' '0' '5.166666666666667'\n",
            "  '9' '1']\n",
            " ['http://www.sirc.org/publik/binge_drinking.shtml' '8' '0' '4.75' '8'\n",
            "  '0']\n",
            " ['https://en.wikibooks.org/wiki/Open_Source' '7' '0' '4.714285714285714'\n",
            "  '9' '0']\n",
            " ['http://youraid.org.au/review0/adobe/' '6' '0' '4.5' '7' '1']\n",
            " ['http://lmrports.com/kato/index.html.htm' '7' '0' '4.428571428571429'\n",
            "  '8' '1']\n",
            " ['http://localpastures.com.au/media/' '5' '0' '5.4' '13' '1']\n",
            " ['http://bestpuppiesusa.com/dhjgd/GD/' '5' '0' '5.6' '14' '1']\n",
            " ['http://heilpraktikerin-edhofer.de/wp-includes/pomo/zooominfo/web.php'\n",
            "  '10' '0' '5.7' '15' '1']\n",
            " ['http://sweetpack.home.pl/sklep.backup/tmp/Y!/T/Y1.html' '11' '0'\n",
            "  '3.6363636363636362' '9' '1']\n",
            " ['http://www.libroesoterico.com/biblioteca/Textos%20sagrados%20y%20antiguos/Sumerian%20Hymns.pdf'\n",
            "  '12' '0' '6.083333333333333' '14' '0']]\n"
          ]
        }
      ]
    },
    {
      "cell_type": "code",
      "source": [
        "\n",
        "import pandas as pd\n",
        "\n",
        "# Open the xlsx file\n",
        "df = pd.read_excel('data.xlsx')\n",
        "\n",
        "# Convert the xlsx file to a numpy array\n",
        "data = df.to_numpy()\n",
        "\n",
        "# Print the first 10 rows of the numpy array\n",
        "\n",
        "edited_data = []\n",
        "for item in data:\n",
        "  edited_data.append([item[1], item[0]])\n",
        "\n",
        "print(edited_data[:10])\n"
      ],
      "metadata": {
        "colab": {
          "base_uri": "https://localhost:8080/"
        },
        "id": "28_zAQ47naJb",
        "outputId": "d087436e-efbd-4698-d9a2-14519495c96f"
      },
      "execution_count": null,
      "outputs": [
        {
          "output_type": "stream",
          "name": "stdout",
          "text": [
            "[['http://dbs.vote-friend.com/sg?ref=anything', 1], ['https://www.reynoldstransfer.com/versa-lift-fork-truck/', 0], ['https://www.halisupportservice.com/Login.php', 1], ['https://www.signets.com.br/wp-includes/wlwmanifest.xml', 0], ['https://docs.google.com/document/d/e/2PACX-1vTS9czxqyCsGi-QUifs7m1MqJZMLCjLcCNhW3DsaHdss5ymnPy6y0VSGwvF3pIu6js22Ydjyew1OyO_/pub?embedded=true', 1], ['https://www.iwestco.com/virtual-consult/', 0], ['https://is.gd/N19JOz', 1], ['https://httpsservices.runescape.com-ov.ru/', 1], ['https://viandjo.com/website/membership/service/billing.php?SessionID-xb=NL.=.3754672._.4d1d7fa8d72fb5318fdf3baed95a10e7.=.Netherlands', 1], ['https://www.millect.com/Plans/tabid/76/Default.aspx', 0]]\n"
          ]
        }
      ]
    },
    {
      "cell_type": "code",
      "source": [
        "import tensorflow as tf\n",
        "from tensorflow.keras.preprocessing.text import Tokenizer\n",
        "from tensorflow.keras.preprocessing.sequence import pad_sequences\n",
        "import numpy as np\n",
        "\n",
        "urls = []\n",
        "labels = []\n",
        "\n",
        "for item in edited_data:\n",
        "  urls.append(item[0])\n",
        "  labels.append(item[1])\n",
        "\n",
        "\n",
        "# Tokenize the URLs\n",
        "tokenizer = Tokenizer(char_level=True)\n",
        "tokenizer.fit_on_texts(urls)\n",
        "sequences = tokenizer.texts_to_sequences(urls)\n",
        "\n",
        "# Pad the sequences\n",
        "max_length = 200\n",
        "padded_sequences = pad_sequences(sequences, maxlen=max_length)\n",
        "\n",
        "# Convert labels to numpy array\n",
        "labels = np.array(labels, dtype=int)\n",
        "\n",
        "\n",
        "# Make predictions on the test data\n",
        "predictions = model.predict(padded_sequences)\n",
        "\n",
        "# Convert the predictions to binary values\n",
        "for i in range(len(predictions)):\n",
        "    if predictions[i] > 0.5:\n",
        "        predictions[i] = 1\n",
        "    else:\n",
        "        predictions[i] = 0\n",
        "\n",
        "# Evaluate the model on the test data\n",
        "from sklearn.metrics import accuracy_score\n",
        "accuracy = accuracy_score(labels, predictions)\n",
        "print(\"Accuracy:\", accuracy)\n"
      ],
      "metadata": {
        "colab": {
          "base_uri": "https://localhost:8080/"
        },
        "id": "96MjdogAouqP",
        "outputId": "d99aa597-16d2-4c36-836f-ef190137902d"
      },
      "execution_count": null,
      "outputs": [
        {
          "output_type": "stream",
          "name": "stdout",
          "text": [
            "625/625 [==============================] - 10s 11ms/step\n",
            "Accuracy: 0.5833\n"
          ]
        }
      ]
    },
    {
      "cell_type": "code",
      "source": [
        "\n",
        "# Calculate the number of true positives, false negatives, true negatives, and false positives.\n",
        "tp = 0\n",
        "fn = 0\n",
        "tn = 0\n",
        "fp = 0\n",
        "\n",
        "for i in range(len(labels)):\n",
        "  if labels[i] == 1 and predictions[i] == 1:\n",
        "    tp += 1\n",
        "  elif labels[i] == 1 and predictions[i] == 0:\n",
        "    fn += 1\n",
        "  elif labels[i] == 0 and predictions[i] == 0:\n",
        "    tn += 1\n",
        "  elif labels[i] == 0 and predictions[i] == 1:\n",
        "    fp += 1\n",
        "\n",
        "# Calculate the percentages of true positives, false negatives, true negatives, and false positives.\n",
        "tp_percent = tp / (tp + fn) * 100\n",
        "fn_percent = fn / (tp + fn) * 100\n",
        "tn_percent = tn / (tn + fp) * 100\n",
        "fp_percent = fp / (tn + fp) * 100\n",
        "\n",
        "# Print the percentages of true positives, false negatives, true negatives, and false positives.\n",
        "print(\"True Positives:\", tp_percent)\n",
        "print(\"False Negatives:\", fn_percent)\n",
        "print(\"True Negatives:\", tn_percent)\n",
        "print(\"False Positives:\", fp_percent)\n"
      ],
      "metadata": {
        "colab": {
          "base_uri": "https://localhost:8080/"
        },
        "id": "MhQmbwPjpy4W",
        "outputId": "8a4432b4-4bfb-4de8-e5eb-ae762a504969"
      },
      "execution_count": null,
      "outputs": [
        {
          "output_type": "stream",
          "name": "stdout",
          "text": [
            "True Positives: 62.35000000000001\n",
            "False Negatives: 37.65\n",
            "True Negatives: 54.31\n",
            "False Positives: 45.69\n"
          ]
        }
      ]
    },
    {
      "cell_type": "markdown",
      "source": [],
      "metadata": {
        "id": "rQEVAAQ-5Vs4"
      }
    }
  ]
}